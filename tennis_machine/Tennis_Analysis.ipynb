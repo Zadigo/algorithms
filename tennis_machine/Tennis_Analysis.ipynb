{
 "cells": [
  {
   "cell_type": "code",
   "execution_count": 109,
   "metadata": {},
   "outputs": [],
   "source": [
    "import numpy as np\n",
    "import matplotlib.pyplot as plt\n",
    "import pandas as pd\n",
    "%matplotlib inline"
   ]
  },
  {
   "cell_type": "code",
   "execution_count": 173,
   "metadata": {},
   "outputs": [
    {
     "name": "stdout",
     "output_type": "stream",
     "text": [
      "     Val  Tour_year Tournament                   Tour_type      Tour_surf  \\\n",
      "0      1       2009        AUS             Australian Open          Major   \n",
      "1      2       2009        FRE                 French Open          Major   \n",
      "2      3       2009        USO                     US Open          Major   \n",
      "3      4       2010        STR                  Strasbourg  International   \n",
      "4      5       2010        STR                  Strasbourg  International   \n",
      "5      6       2010        FRE                 French Open          Major   \n",
      "6      7       2012        FRE                 French Open          Major   \n",
      "7      8       2012        WIM                   Wimbledon          Major   \n",
      "8      9       2012        USO                     US Open          Major   \n",
      "9     10       2012        USO                     US Open          Major   \n",
      "10    11       2012        USO                     US Open          Major   \n",
      "11    12       2012        QUE                 Quebec City  International   \n",
      "12    13       2012        QUE                 Quebec City  International   \n",
      "13    14       2012        QUE                 Quebec City  International   \n",
      "14    15       2012        QUE                 Quebec City  International   \n",
      "15    16       2013        AUS             Australian Open          Major   \n",
      "16    17       2013        AUS             Australian Open          Major   \n",
      "17    18       2013        PAR                  Paris Open        Premier   \n",
      "18    19       2013        PAR                  Paris Open        Premier   \n",
      "19    20       2013        PAR                  Paris Open        Premier   \n",
      "20    21       2013        PAR                  Paris Open        Premier   \n",
      "21    22       2013        NaN  Fed Cup WG2 R1: FRA vs GER            NaN   \n",
      "22    23       2013        MEM                     Memphis  International   \n",
      "23    24       2013        MEM                     Memphis  International   \n",
      "24    25       2013        MEM                     Memphis  International   \n",
      "25    26       2013        FLO               Florianopolis  International   \n",
      "26    27       2013        FLO               Florianopolis  International   \n",
      "27    28       2013        FLO               Florianopolis  International   \n",
      "28    29       2013        FLO               Florianopolis  International   \n",
      "29    30       2013        IND                Indian Wells      Mandatory   \n",
      "..   ...        ...        ...                         ...            ...   \n",
      "285  286       2017        WAS               Washington DC  International   \n",
      "286  287       2017        WAS               Washington DC  International   \n",
      "287  288       2017        TOR                     Toronto      Premier 5   \n",
      "288  289       2017        CIN                  Cincinnati      Premier 5   \n",
      "289  290       2017        NEW                   New Haven        Premier   \n",
      "290  291       2017        USO                     US Open          Major   \n",
      "291  292       2017        TKI         Tokyo International  International   \n",
      "292  293       2017        TKY                       Tokyo  International   \n",
      "293  294       2017        WUH                       Wuhan      Premier 5   \n",
      "294  295       2017        BEI                     Beijing      Mandatory   \n",
      "295  296       2017        MOS                      Moscow        Premier   \n",
      "296  297       2017        NaN                   WTA Elite            NaN   \n",
      "297  298       2017        NaN                   WTA Elite            NaN   \n",
      "298  299       2018        BRI                    Brisbane        Premier   \n",
      "299  300       2018        SYD                      Sydney        Premier   \n",
      "300  301       2018        AUS             Australian Open            NaN   \n",
      "301  302       2018        STP              St-Petersbourg        Premier   \n",
      "302  303       2018        STP              St-Petersbourg        Premier   \n",
      "303  304       2018        STP              St-Petersbourg        Premier   \n",
      "304  305       2018        STP              St-Petersbourg        Premier   \n",
      "305  306       2018        NaN                     Fed Cup            NaN   \n",
      "306  307       2018        NaN                     Fed Cup            NaN   \n",
      "307  308       2018        NaN                        Doha            NaN   \n",
      "308  309       2018        NaN                        Doha            NaN   \n",
      "309  310       2018        NaN                       Dubai            NaN   \n",
      "310  311       2018        NaN                    Acapulco            NaN   \n",
      "311  312       2018        NaN                    Acapulco            NaN   \n",
      "312  313       2018        NaN                    Acapulco            NaN   \n",
      "313  314       2018        NaN                Indian Wells            NaN   \n",
      "314  315       2018        NaN                Indian Wells            NaN   \n",
      "\n",
      "    Tour_env Tour_round Match First_set   Sets  Opp_rank Player_rank  \\\n",
      "0        1st       Loss   Win     Three   15.0     999.0         105   \n",
      "1        1st       Loss  Loss     Three   53.0     338.0          80   \n",
      "2        1st       Loss  Loss       Two  113.0     291.0         127   \n",
      "3        1st        Win   NaN     Three   76.0     235.0         126   \n",
      "4        2nd       Loss   NaN       Two   58.0     235.0          16   \n",
      "5        1st       Loss   NaN       Two   12.0     211.0          95   \n",
      "6        1st       Loss   Win       Two   16.0     158.0          42   \n",
      "7        1st       Loss  Loss     Three  178.0     157.0          56   \n",
      "8        1st        Win   Win       Two   54.0     150.0          86   \n",
      "9        2nd        Win   Win       Two   20.0     150.0          15   \n",
      "10       3rd       Loss   Win       Two   11.0     150.0          87   \n",
      "11       1st        Win   Win     Three  185.0     123.0          78   \n",
      "12       2nd        Win  Loss     Three  141.0     123.0          22   \n",
      "13        QF        Win   Win       Two  115.0     123.0          88   \n",
      "14        SF       Loss   Win       Two   60.0     123.0          75   \n",
      "15       1st        Win   Win     Three   27.0      98.0         135   \n",
      "16       2nd       Loss   Win       Two   75.0      98.0         124   \n",
      "17       1st        Win   Win     Three   45.0      87.0          62   \n",
      "18       2nd        Win   Win       Two    8.0      87.0         146   \n",
      "19        QF        Win   Win       Two   22.0      87.0         107   \n",
      "20        SF       Loss   Win       Two   19.0      87.0          92   \n",
      "21        RR       Loss   Win       Two   19.0      69.0          62   \n",
      "22       1st        Win   Win       Two   40.0      63.0          36   \n",
      "23       2nd        Win   Win     Three  451.0      63.0         144   \n",
      "24        QF       Loss   Win       Two   40.0      63.0         112   \n",
      "25       1st        Win   Win       Two  183.0      58.0          21   \n",
      "26       2nd        Win   Win       Two  105.0      58.0         131   \n",
      "27        QF        Win   Win       Two  100.0      58.0          89   \n",
      "28        SF       Loss   Win       Two   75.0      58.0          93   \n",
      "29       1st       Loss   Win       Two   60.0      51.0          33   \n",
      "..       ...        ...   ...       ...    ...       ...         ...   \n",
      "285      1st        Win   Win     Three   62.0      13.0         NaN   \n",
      "286      2nd       Loss  Loss       Two  167.0      13.0         NaN   \n",
      "287      1st       Loss  Loss       Two   26.0      14.0         NaN   \n",
      "288      1st       Loss  Loss       Two   26.0      14.0         NaN   \n",
      "289      1st       Loss  Loss       Two   66.0      14.0         NaN   \n",
      "290      1st       Loss  Loss       Two   57.0      15.0         NaN   \n",
      "291      1st       Loss  Loss       Two  123.0      15.0         NaN   \n",
      "292      1st       Loss  Loss       Two   57.0      15.0         NaN   \n",
      "293      1st       Loss  Loss       Two   47.0      15.0         NaN   \n",
      "294      1st       Loss  Loss       Two   99.0      14.0         NaN   \n",
      "295      1st       Loss  Loss     Three  100.0      13.0         NaN   \n",
      "296       RR       Loss   NaN       NaN    NaN       NaN         NaN   \n",
      "297       RR       Loss   NaN       NaN    NaN       NaN         NaN   \n",
      "298      1st       Loss   Win     Three    NaN       NaN         NaN   \n",
      "299      1st       Loss  Loss       Two    NaN       NaN         NaN   \n",
      "300      1st       Loss  Loss       Two  104.0      11.0         NaN   \n",
      "301      1st        Win   NaN       NaN    NaN      26.0         NaN   \n",
      "302       QF        Win   NaN       NaN    NaN      52.0         NaN   \n",
      "303       SF        Win   NaN       NaN    NaN      23.0         NaN   \n",
      "304        F       Loss   NaN       NaN    NaN      29.0         NaN   \n",
      "305      NaN        Win   NaN       NaN    NaN       NaN         NaN   \n",
      "306      NaN        Win   NaN       NaN    NaN       NaN         NaN   \n",
      "307      1st        Win   NaN       NaN    NaN       NaN         NaN   \n",
      "308      2nd       Loss   NaN       NaN    NaN       NaN         NaN   \n",
      "309      1st       Loss   NaN       NaN    NaN       NaN         NaN   \n",
      "310      1st        Win   NaN       NaN    NaN       NaN         NaN   \n",
      "311      2nd        Win   NaN       NaN    NaN       NaN         NaN   \n",
      "312       QF       Loss   NaN       NaN    NaN       NaN         NaN   \n",
      "313      1st        Win   NaN       NaN    NaN       NaN         NaN   \n",
      "314      2nd       Loss   NaN       NaN    NaN       NaN         NaN   \n",
      "\n",
      "     PlayerName   PlayerSirName  \n",
      "0         Patty        Schnyder  \n",
      "1     Magdalena      Rybarikova  \n",
      "2     Stephanie          Dubois  \n",
      "3      Stefanie         Voegele  \n",
      "4    Anastasija       Sevastova  \n",
      "5            Na              Li  \n",
      "6      Dominika       Cibulkova  \n",
      "7          Jana        Cepelova  \n",
      "8        Marina        Erakovic  \n",
      "9     Anastasia  Pavlyuchenkova  \n",
      "10       Marion         Bartoli  \n",
      "11      Madison         Brengle  \n",
      "12       Annika            Beck  \n",
      "13      Melanie           Oudin  \n",
      "14        Lucie        Hradecka  \n",
      "15        Timea           Babos  \n",
      "16       Sloane        Stephens  \n",
      "17        Julia         Goerges  \n",
      "18       Yanina       Wickmayer  \n",
      "19        Petra         Kvitova  \n",
      "20         Mona         Barthel  \n",
      "21        Julia         Goerges  \n",
      "22     Courtney         Collins  \n",
      "23     Victoria           Duval  \n",
      "24       Sabine         Lisicki  \n",
      "25         Anne      Keothavong  \n",
      "26      Tatjana           Malek  \n",
      "27      Melinda           Czink  \n",
      "28       Monica       Niculescu  \n",
      "29     Chanelle       Scheepers  \n",
      "..          ...             ...  \n",
      "285         NaN             NaN  \n",
      "286         NaN             NaN  \n",
      "287         NaN             NaN  \n",
      "288         NaN             NaN  \n",
      "289         NaN             NaN  \n",
      "290         NaN             NaN  \n",
      "291         NaN             NaN  \n",
      "292         NaN             NaN  \n",
      "293         NaN             NaN  \n",
      "294         NaN             NaN  \n",
      "295         NaN             NaN  \n",
      "296         NaN             NaN  \n",
      "297         NaN             NaN  \n",
      "298         NaN             NaN  \n",
      "299         NaN             NaN  \n",
      "300         NaN             NaN  \n",
      "301         NaN             NaN  \n",
      "302         NaN             NaN  \n",
      "303         NaN             NaN  \n",
      "304         NaN             NaN  \n",
      "305         NaN             NaN  \n",
      "306         NaN             NaN  \n",
      "307         NaN             NaN  \n",
      "308         NaN             NaN  \n",
      "309         NaN             NaN  \n",
      "310         NaN             NaN  \n",
      "311         NaN             NaN  \n",
      "312         NaN             NaN  \n",
      "313         NaN             NaN  \n",
      "314         NaN             NaN  \n",
      "\n",
      "[315 rows x 14 columns]\n"
     ]
    }
   ],
   "source": [
    "# Load\n",
    "kristina = pd.read_csv('Kristina Mladenovic - MainDraw.csv')\n",
    "print(kristina)"
   ]
  },
  {
   "cell_type": "code",
   "execution_count": 217,
   "metadata": {},
   "outputs": [
    {
     "name": "stdout",
     "output_type": "stream",
     "text": [
      "   Val  Tour_year  Opp_rank Player_rank\n",
      "0    1       2009     999.0         105\n",
      "1    2       2009     338.0          80\n",
      "2    3       2009     291.0         127\n",
      "3    4       2010     235.0         126\n",
      "4    5       2010     235.0          16\n"
     ]
    }
   ],
   "source": [
    "# Drop these \n",
    "nope = ['Tour_env', 'Tournament', 'Tour_type', 'PlayerName', 'PlayerSirName', 'Tour_surf', 'Tour_round', 'Match', 'First_set', 'Sets']\n",
    "kr = pd.DataFrame(kristina).drop(nope, axis=1)\n",
    "print(kr.head())\n",
    "# print(kr.head())\n",
    "# print(a.loc[50:55])"
   ]
  },
  {
   "cell_type": "code",
   "execution_count": 185,
   "metadata": {},
   "outputs": [],
   "source": [
    "tra = kristina['Opp_rank']\n",
    "ran = kristina['Player_rank']\n",
    "\n",
    "# Drop #NA values\n",
    "fix_tra = tra.dropna(axis=0)\n",
    "fix_ran = ran.dropna(axis=0)\n",
    "\n",
    "# print(fix_tra.data.shape)\n",
    "# print(fix_ran.data.shape)"
   ]
  },
  {
   "cell_type": "code",
   "execution_count": 84,
   "metadata": {},
   "outputs": [],
   "source": [
    "# a = pd.isna(ran)"
   ]
  },
  {
   "cell_type": "code",
   "execution_count": 85,
   "metadata": {},
   "outputs": [],
   "source": [
    "# a = ran.dropna(axis=0)"
   ]
  },
  {
   "cell_type": "code",
   "execution_count": 186,
   "metadata": {},
   "outputs": [],
   "source": [
    "# a.describe()"
   ]
  },
  {
   "cell_type": "code",
   "execution_count": 131,
   "metadata": {},
   "outputs": [],
   "source": [
    "# plt.rcParams['figure.figsize'] = (10, 6)"
   ]
  },
  {
   "cell_type": "code",
   "execution_count": 202,
   "metadata": {},
   "outputs": [
    {
     "ename": "AttributeError",
     "evalue": "'Series' object has no attribute 'columns'",
     "output_type": "error",
     "traceback": [
      "\u001b[1;31m---------------------------------------------------------------------------\u001b[0m",
      "\u001b[1;31mAttributeError\u001b[0m                            Traceback (most recent call last)",
      "\u001b[1;32m<ipython-input-202-aa298f1b8a29>\u001b[0m in \u001b[0;36m<module>\u001b[1;34m()\u001b[0m\n\u001b[0;32m      2\u001b[0m \u001b[1;31m# ts.plot.bar()\u001b[0m\u001b[1;33m\u001b[0m\u001b[1;33m\u001b[0m\u001b[0m\n\u001b[0;32m      3\u001b[0m \u001b[1;33m\u001b[0m\u001b[0m\n\u001b[1;32m----> 4\u001b[1;33m \u001b[0mo\u001b[0m \u001b[1;33m=\u001b[0m \u001b[0mzip\u001b[0m\u001b[1;33m(\u001b[0m\u001b[0mfix_tra\u001b[0m\u001b[1;33m.\u001b[0m\u001b[0mcolumns\u001b[0m\u001b[1;33m,\u001b[0m \u001b[0mfix_ran\u001b[0m\u001b[1;33m)\u001b[0m\u001b[1;33m\u001b[0m\u001b[0m\n\u001b[0m\u001b[0;32m      5\u001b[0m \u001b[0ma\u001b[0m \u001b[1;33m=\u001b[0m \u001b[0mpd\u001b[0m\u001b[1;33m.\u001b[0m\u001b[0mDataFrame\u001b[0m\u001b[1;33m(\u001b[0m\u001b[0mo\u001b[0m\u001b[1;33m,\u001b[0m \u001b[0mcolumns\u001b[0m\u001b[1;33m=\u001b[0m\u001b[1;33m[\u001b[0m\u001b[1;34m'a, b'\u001b[0m\u001b[1;33m]\u001b[0m\u001b[1;33m)\u001b[0m\u001b[1;33m\u001b[0m\u001b[0m\n",
      "\u001b[1;32mc:\\program files (x86)\\python36-32\\lib\\site-packages\\pandas\\core\\generic.py\u001b[0m in \u001b[0;36m__getattr__\u001b[1;34m(self, name)\u001b[0m\n\u001b[0;32m   3608\u001b[0m         if (name in self._internal_names_set or name in self._metadata or\n\u001b[0;32m   3609\u001b[0m                 name in self._accessors):\n\u001b[1;32m-> 3610\u001b[1;33m             \u001b[1;32mreturn\u001b[0m \u001b[0mobject\u001b[0m\u001b[1;33m.\u001b[0m\u001b[0m__getattribute__\u001b[0m\u001b[1;33m(\u001b[0m\u001b[0mself\u001b[0m\u001b[1;33m,\u001b[0m \u001b[0mname\u001b[0m\u001b[1;33m)\u001b[0m\u001b[1;33m\u001b[0m\u001b[0m\n\u001b[0m\u001b[0;32m   3611\u001b[0m         \u001b[1;32melse\u001b[0m\u001b[1;33m:\u001b[0m\u001b[1;33m\u001b[0m\u001b[0m\n\u001b[0;32m   3612\u001b[0m             \u001b[1;32mif\u001b[0m \u001b[0mname\u001b[0m \u001b[1;32min\u001b[0m \u001b[0mself\u001b[0m\u001b[1;33m.\u001b[0m\u001b[0m_info_axis\u001b[0m\u001b[1;33m:\u001b[0m\u001b[1;33m\u001b[0m\u001b[0m\n",
      "\u001b[1;31mAttributeError\u001b[0m: 'Series' object has no attribute 'columns'"
     ]
    }
   ],
   "source": [
    "# ts = pd.Series(a, index=tra)\n",
    "# ts.plot.bar()\n",
    "\n",
    "o = zip(fix_tra, fix_ran)\n",
    "a = pd.DataFrame(o, columns=['a, b'])"
   ]
  },
  {
   "cell_type": "code",
   "execution_count": 148,
   "metadata": {},
   "outputs": [],
   "source": [
    "from sklearn import linear_model\n",
    "from sklearn.metrics import mean_squared_error, r2_score"
   ]
  },
  {
   "cell_type": "code",
   "execution_count": 149,
   "metadata": {},
   "outputs": [],
   "source": [
    "# Split the data into training/testing sets\n",
    "X_train = \n",
    "X_test ="
   ]
  },
  {
   "cell_type": "code",
   "execution_count": 164,
   "metadata": {},
   "outputs": [],
   "source": [
    "# Split the targets into training/testing sets\n",
    "y_train = a[:-20]\n",
    "y_test = a[-20:]"
   ]
  },
  {
   "cell_type": "code",
   "execution_count": 151,
   "metadata": {},
   "outputs": [],
   "source": [
    "# Create linear regression object\n",
    "regr = linear_model.LinearRegression()"
   ]
  },
  {
   "cell_type": "code",
   "execution_count": 165,
   "metadata": {},
   "outputs": [
    {
     "ename": "ValueError",
     "evalue": "Expected 2D array, got 1D array instead:\narray=[999. 338. 291. 235. 235. 211. 158. 157. 150. 150. 150. 123. 123. 123.\n 123.  98.  98.  87.  87.  87.  87.  69.  63.  63.  63.  58.  58.  58.\n  58.  51.  48.  48.  49.  51.  51.  51.  46.  45.  45.  43.  46.  46.\n  39.  39.  39.  39.  37.  39.  39.  39.  38.  37.  36.  36.  40.  40.\n  40.  49.  47.  49.  49.  47.   9.  17.  79.  46.  39.  10.  82.  70.\n  16.  42.  69.  14. 114. 134.  33.  35.  71.  27.   2.  45.  86.  72.\n  15.  75.  33.  77.  75.  76.  57.  40. 143.  17.   4. 195. 142.  38.\n 128.  27.  64.  11. 151.  87. 147. 258.  28.  13.  15.  67. 262.   6.\n 155.  58.  41.  10.  84.  22.  62.   4.  86.  97.  20.  82. 112.   8.\n  50.  69.  88.  26.  16.  46.  94. 251.  93.   6.  89.  33.  57.  91.\n  12.   3.  28.  11.  44.  24.  60. 147.  21.  17.   3.  68.  58.  16.\n  43.  30.  13. 133.  98.  68.  29.  17. 115.  19.  90.  88. 168.  66.\n 149.  45.  44.  51.  51.  51.  51.  51.  31.  31.  31.  31.  31.  30.\n  30.  30.  30.  30.  26.  26.  26.  26.  26.  26.  19.  19.  19.  19.\n  19.  19.  19.  17.  17.  17.  17.  17.  17.  14.  13.  13.  13.  12.\n  12.  12.].\nReshape your data either using array.reshape(-1, 1) if your data has a single feature or array.reshape(1, -1) if it contains a single sample.",
     "output_type": "error",
     "traceback": [
      "\u001b[1;31m---------------------------------------------------------------------------\u001b[0m",
      "\u001b[1;31mValueError\u001b[0m                                Traceback (most recent call last)",
      "\u001b[1;32m<ipython-input-165-54b5df3622f8>\u001b[0m in \u001b[0;36m<module>\u001b[1;34m()\u001b[0m\n\u001b[1;32m----> 1\u001b[1;33m \u001b[0mregr\u001b[0m\u001b[1;33m.\u001b[0m\u001b[0mfit\u001b[0m\u001b[1;33m(\u001b[0m\u001b[0mX_train\u001b[0m\u001b[1;33m,\u001b[0m \u001b[0my_train\u001b[0m\u001b[1;33m)\u001b[0m\u001b[1;33m\u001b[0m\u001b[0m\n\u001b[0m",
      "\u001b[1;32mc:\\program files (x86)\\python36-32\\lib\\site-packages\\sklearn\\linear_model\\base.py\u001b[0m in \u001b[0;36mfit\u001b[1;34m(self, X, y, sample_weight)\u001b[0m\n\u001b[0;32m    480\u001b[0m         \u001b[0mn_jobs_\u001b[0m \u001b[1;33m=\u001b[0m \u001b[0mself\u001b[0m\u001b[1;33m.\u001b[0m\u001b[0mn_jobs\u001b[0m\u001b[1;33m\u001b[0m\u001b[0m\n\u001b[0;32m    481\u001b[0m         X, y = check_X_y(X, y, accept_sparse=['csr', 'csc', 'coo'],\n\u001b[1;32m--> 482\u001b[1;33m                          y_numeric=True, multi_output=True)\n\u001b[0m\u001b[0;32m    483\u001b[0m \u001b[1;33m\u001b[0m\u001b[0m\n\u001b[0;32m    484\u001b[0m         \u001b[1;32mif\u001b[0m \u001b[0msample_weight\u001b[0m \u001b[1;32mis\u001b[0m \u001b[1;32mnot\u001b[0m \u001b[1;32mNone\u001b[0m \u001b[1;32mand\u001b[0m \u001b[0mnp\u001b[0m\u001b[1;33m.\u001b[0m\u001b[0matleast_1d\u001b[0m\u001b[1;33m(\u001b[0m\u001b[0msample_weight\u001b[0m\u001b[1;33m)\u001b[0m\u001b[1;33m.\u001b[0m\u001b[0mndim\u001b[0m \u001b[1;33m>\u001b[0m \u001b[1;36m1\u001b[0m\u001b[1;33m:\u001b[0m\u001b[1;33m\u001b[0m\u001b[0m\n",
      "\u001b[1;32mc:\\program files (x86)\\python36-32\\lib\\site-packages\\sklearn\\utils\\validation.py\u001b[0m in \u001b[0;36mcheck_X_y\u001b[1;34m(X, y, accept_sparse, dtype, order, copy, force_all_finite, ensure_2d, allow_nd, multi_output, ensure_min_samples, ensure_min_features, y_numeric, warn_on_dtype, estimator)\u001b[0m\n\u001b[0;32m    571\u001b[0m     X = check_array(X, accept_sparse, dtype, order, copy, force_all_finite,\n\u001b[0;32m    572\u001b[0m                     \u001b[0mensure_2d\u001b[0m\u001b[1;33m,\u001b[0m \u001b[0mallow_nd\u001b[0m\u001b[1;33m,\u001b[0m \u001b[0mensure_min_samples\u001b[0m\u001b[1;33m,\u001b[0m\u001b[1;33m\u001b[0m\u001b[0m\n\u001b[1;32m--> 573\u001b[1;33m                     ensure_min_features, warn_on_dtype, estimator)\n\u001b[0m\u001b[0;32m    574\u001b[0m     \u001b[1;32mif\u001b[0m \u001b[0mmulti_output\u001b[0m\u001b[1;33m:\u001b[0m\u001b[1;33m\u001b[0m\u001b[0m\n\u001b[0;32m    575\u001b[0m         y = check_array(y, 'csr', force_all_finite=True, ensure_2d=False,\n",
      "\u001b[1;32mc:\\program files (x86)\\python36-32\\lib\\site-packages\\sklearn\\utils\\validation.py\u001b[0m in \u001b[0;36mcheck_array\u001b[1;34m(array, accept_sparse, dtype, order, copy, force_all_finite, ensure_2d, allow_nd, ensure_min_samples, ensure_min_features, warn_on_dtype, estimator)\u001b[0m\n\u001b[0;32m    439\u001b[0m                     \u001b[1;34m\"Reshape your data either using array.reshape(-1, 1) if \"\u001b[0m\u001b[1;33m\u001b[0m\u001b[0m\n\u001b[0;32m    440\u001b[0m                     \u001b[1;34m\"your data has a single feature or array.reshape(1, -1) \"\u001b[0m\u001b[1;33m\u001b[0m\u001b[0m\n\u001b[1;32m--> 441\u001b[1;33m                     \"if it contains a single sample.\".format(array))\n\u001b[0m\u001b[0;32m    442\u001b[0m             \u001b[0marray\u001b[0m \u001b[1;33m=\u001b[0m \u001b[0mnp\u001b[0m\u001b[1;33m.\u001b[0m\u001b[0matleast_2d\u001b[0m\u001b[1;33m(\u001b[0m\u001b[0marray\u001b[0m\u001b[1;33m)\u001b[0m\u001b[1;33m\u001b[0m\u001b[0m\n\u001b[0;32m    443\u001b[0m             \u001b[1;31m# To ensure that array flags are maintained\u001b[0m\u001b[1;33m\u001b[0m\u001b[1;33m\u001b[0m\u001b[0m\n",
      "\u001b[1;31mValueError\u001b[0m: Expected 2D array, got 1D array instead:\narray=[999. 338. 291. 235. 235. 211. 158. 157. 150. 150. 150. 123. 123. 123.\n 123.  98.  98.  87.  87.  87.  87.  69.  63.  63.  63.  58.  58.  58.\n  58.  51.  48.  48.  49.  51.  51.  51.  46.  45.  45.  43.  46.  46.\n  39.  39.  39.  39.  37.  39.  39.  39.  38.  37.  36.  36.  40.  40.\n  40.  49.  47.  49.  49.  47.   9.  17.  79.  46.  39.  10.  82.  70.\n  16.  42.  69.  14. 114. 134.  33.  35.  71.  27.   2.  45.  86.  72.\n  15.  75.  33.  77.  75.  76.  57.  40. 143.  17.   4. 195. 142.  38.\n 128.  27.  64.  11. 151.  87. 147. 258.  28.  13.  15.  67. 262.   6.\n 155.  58.  41.  10.  84.  22.  62.   4.  86.  97.  20.  82. 112.   8.\n  50.  69.  88.  26.  16.  46.  94. 251.  93.   6.  89.  33.  57.  91.\n  12.   3.  28.  11.  44.  24.  60. 147.  21.  17.   3.  68.  58.  16.\n  43.  30.  13. 133.  98.  68.  29.  17. 115.  19.  90.  88. 168.  66.\n 149.  45.  44.  51.  51.  51.  51.  51.  31.  31.  31.  31.  31.  30.\n  30.  30.  30.  30.  26.  26.  26.  26.  26.  26.  19.  19.  19.  19.\n  19.  19.  19.  17.  17.  17.  17.  17.  17.  14.  13.  13.  13.  12.\n  12.  12.].\nReshape your data either using array.reshape(-1, 1) if your data has a single feature or array.reshape(1, -1) if it contains a single sample."
     ]
    }
   ],
   "source": [
    "regr.fit(X_train, y_train)"
   ]
  },
  {
   "cell_type": "code",
   "execution_count": 156,
   "metadata": {},
   "outputs": [],
   "source": [
    "# Make predictions using the testing set\n",
    "# y_pred = regr.predict(X_test)"
   ]
  },
  {
   "cell_type": "code",
   "execution_count": null,
   "metadata": {},
   "outputs": [],
   "source": [
    "# The coefficients\n",
    "# print('Coefficients: \\n', regr.coef_)"
   ]
  }
 ],
 "metadata": {
  "kernelspec": {
   "display_name": "Python 3",
   "language": "python",
   "name": "python3"
  }
 },
 "nbformat": 4,
 "nbformat_minor": 2
}
